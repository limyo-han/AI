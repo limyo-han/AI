{
 "cells": [
  {
   "cell_type": "code",
   "execution_count": 18,
   "id": "b3ca2520-004a-4373-9fc8-2de874c0948b",
   "metadata": {},
   "outputs": [
    {
     "name": "stdout",
     "output_type": "stream",
     "text": [
      "   SepalLength  SepalWidth  PetalLength  PetalWidth         Name\n",
      "0          5.1         3.5          1.4         0.2  Iris-setosa\n",
      "1          4.9         3.0          1.4         0.2  Iris-setosa\n",
      "2          4.7         3.2          1.3         0.2  Iris-setosa\n",
      "3          4.6         3.1          1.5         0.2  Iris-setosa\n",
      "4          5.0         3.6          1.4         0.2  Iris-setosa\n",
      "최적의 k 값: 3\n",
      "KNN 정확도: 1.0000\n"
     ]
    }
   ],
   "source": [
    "import pandas as pd\n",
    "from sklearn.model_selection import train_test_split\n",
    "from sklearn.preprocessing import LabelEncoder\n",
    "from sklearn.metrics import accuracy_score\n",
    "from sklearn.neighbors import KNeighborsClassifier\n",
    "from sklearn.datasets import load_iris\n",
    "\n",
    "from sklearn.model_selection import cross_val_score\n",
    "\n",
    "# 붓꽃 데이터 CSV 파일 읽기\n",
    "file_path = \"C:/Users/john7/OneDrive/Desktop/3학년 1학기/인공지능개론/iris.csv\"  # 실제 경로로 변경하세요\n",
    "df = pd.read_csv(file_path)\n",
    "\n",
    "# 데이터 확인\n",
    "print(df.head())\n",
    "\n",
    "# 데이터 전처리\n",
    "X = df.iloc[:, :-1]  # 특성(Feature) 데이터\n",
    "y = df.iloc[:, -1]   # 레이블(Label) 데이터\n",
    "\n",
    "# x/y 데이터 train/test 데이터 분리 (학습 80%, 테스트 20%)\n",
    "X_train, X_test, y_train, y_test = train_test_split(X, y, test_size=0.2, random_state=42)\n",
    "\n",
    "\n",
    "# 최적의 k 값을 찾기 위한 교차 검증\n",
    "k_range = range(1, 21)  # k 값 범위 설정 (1부터 20까지)\n",
    "k_scores = []\n",
    "\n",
    "for k in k_range:\n",
    "    knn = KNeighborsClassifier(n_neighbors=k)\n",
    "    scores = cross_val_score(knn, X_train, y_train, cv=5, scoring='accuracy')  # 5-fold cross-validation\n",
    "    k_scores.append(scores.mean())  # 평균 정확도 계산\n",
    "\n",
    "# 최적의 k 값 찾기\n",
    "optimal_k = k_range[k_scores.index(max(k_scores))]\n",
    "print(f\"최적의 k 값: {optimal_k}\")\n",
    "\n",
    "\n",
    "# KNN 분류, 최적의 k 값으로 모델 학습\n",
    "knn_model = KNeighborsClassifier(n_neighbors=3)  # k=3 설정\n",
    "knn_model.fit(X_train, y_train)  # 학습 데이터로 모델 학습\n",
    "y_pred_knn = knn_model.predict(X_test)  # 예측\n",
    "\n",
    "# 정확도 평가\n",
    "knn_acc = accuracy_score(y_test, y_pred_knn)\n",
    "print(f\"KNN 정확도: {knn_acc:.4f}\")"
   ]
  },
  {
   "cell_type": "code",
   "execution_count": null,
   "id": "146efa18-ea88-4796-ac55-4a31d62f7488",
   "metadata": {},
   "outputs": [],
   "source": []
  },
  {
   "cell_type": "code",
   "execution_count": null,
   "id": "747d974d-c818-4110-a444-8d5ac7642b28",
   "metadata": {},
   "outputs": [],
   "source": []
  }
 ],
 "metadata": {
  "kernelspec": {
   "display_name": "Python 3 (ipykernel)",
   "language": "python",
   "name": "python3"
  },
  "language_info": {
   "codemirror_mode": {
    "name": "ipython",
    "version": 3
   },
   "file_extension": ".py",
   "mimetype": "text/x-python",
   "name": "python",
   "nbconvert_exporter": "python",
   "pygments_lexer": "ipython3",
   "version": "3.12.7"
  }
 },
 "nbformat": 4,
 "nbformat_minor": 5
}
