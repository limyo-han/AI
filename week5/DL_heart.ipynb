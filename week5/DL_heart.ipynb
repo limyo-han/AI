{
  "nbformat": 4,
  "nbformat_minor": 0,
  "metadata": {
    "colab": {
      "provenance": []
    },
    "kernelspec": {
      "name": "python3",
      "display_name": "Python 3"
    },
    "language_info": {
      "name": "python"
    }
  },
  "cells": [
    {
      "cell_type": "code",
      "execution_count": 37,
      "metadata": {
        "colab": {
          "base_uri": "https://localhost:8080/",
          "height": 280
        },
        "id": "PHv7fhVi0NuO",
        "outputId": "bc8ff3c6-f841-4928-c202-0bda9804e633"
      },
      "outputs": [
        {
          "output_type": "display_data",
          "data": {
            "text/plain": [
              "   age  sex  cp  trestbps  chol  fbs  restecg  thalach  exang  oldpeak  slope  \\\n",
              "0   63    1   3       145   233    1        0      150      0      2.3      0   \n",
              "1   37    1   2       130   250    0        1      187      0      3.5      0   \n",
              "2   41    0   1       130   204    0        0      172      0      1.4      2   \n",
              "3   56    1   1       120   236    0        1      178      0      0.8      2   \n",
              "4   57    0   0       120   354    0        1      163      1      0.6      2   \n",
              "\n",
              "   ca  thal  target  \n",
              "0   0     1       1  \n",
              "1   0     2       1  \n",
              "2   0     2       1  \n",
              "3   0     2       1  \n",
              "4   0     2       1  "
            ],
            "text/html": [
              "\n",
              "  <div id=\"df-b8cad1aa-e1d7-472e-9145-4fec990a7c19\" class=\"colab-df-container\">\n",
              "    <div>\n",
              "<style scoped>\n",
              "    .dataframe tbody tr th:only-of-type {\n",
              "        vertical-align: middle;\n",
              "    }\n",
              "\n",
              "    .dataframe tbody tr th {\n",
              "        vertical-align: top;\n",
              "    }\n",
              "\n",
              "    .dataframe thead th {\n",
              "        text-align: right;\n",
              "    }\n",
              "</style>\n",
              "<table border=\"1\" class=\"dataframe\">\n",
              "  <thead>\n",
              "    <tr style=\"text-align: right;\">\n",
              "      <th></th>\n",
              "      <th>age</th>\n",
              "      <th>sex</th>\n",
              "      <th>cp</th>\n",
              "      <th>trestbps</th>\n",
              "      <th>chol</th>\n",
              "      <th>fbs</th>\n",
              "      <th>restecg</th>\n",
              "      <th>thalach</th>\n",
              "      <th>exang</th>\n",
              "      <th>oldpeak</th>\n",
              "      <th>slope</th>\n",
              "      <th>ca</th>\n",
              "      <th>thal</th>\n",
              "      <th>target</th>\n",
              "    </tr>\n",
              "  </thead>\n",
              "  <tbody>\n",
              "    <tr>\n",
              "      <th>0</th>\n",
              "      <td>63</td>\n",
              "      <td>1</td>\n",
              "      <td>3</td>\n",
              "      <td>145</td>\n",
              "      <td>233</td>\n",
              "      <td>1</td>\n",
              "      <td>0</td>\n",
              "      <td>150</td>\n",
              "      <td>0</td>\n",
              "      <td>2.3</td>\n",
              "      <td>0</td>\n",
              "      <td>0</td>\n",
              "      <td>1</td>\n",
              "      <td>1</td>\n",
              "    </tr>\n",
              "    <tr>\n",
              "      <th>1</th>\n",
              "      <td>37</td>\n",
              "      <td>1</td>\n",
              "      <td>2</td>\n",
              "      <td>130</td>\n",
              "      <td>250</td>\n",
              "      <td>0</td>\n",
              "      <td>1</td>\n",
              "      <td>187</td>\n",
              "      <td>0</td>\n",
              "      <td>3.5</td>\n",
              "      <td>0</td>\n",
              "      <td>0</td>\n",
              "      <td>2</td>\n",
              "      <td>1</td>\n",
              "    </tr>\n",
              "    <tr>\n",
              "      <th>2</th>\n",
              "      <td>41</td>\n",
              "      <td>0</td>\n",
              "      <td>1</td>\n",
              "      <td>130</td>\n",
              "      <td>204</td>\n",
              "      <td>0</td>\n",
              "      <td>0</td>\n",
              "      <td>172</td>\n",
              "      <td>0</td>\n",
              "      <td>1.4</td>\n",
              "      <td>2</td>\n",
              "      <td>0</td>\n",
              "      <td>2</td>\n",
              "      <td>1</td>\n",
              "    </tr>\n",
              "    <tr>\n",
              "      <th>3</th>\n",
              "      <td>56</td>\n",
              "      <td>1</td>\n",
              "      <td>1</td>\n",
              "      <td>120</td>\n",
              "      <td>236</td>\n",
              "      <td>0</td>\n",
              "      <td>1</td>\n",
              "      <td>178</td>\n",
              "      <td>0</td>\n",
              "      <td>0.8</td>\n",
              "      <td>2</td>\n",
              "      <td>0</td>\n",
              "      <td>2</td>\n",
              "      <td>1</td>\n",
              "    </tr>\n",
              "    <tr>\n",
              "      <th>4</th>\n",
              "      <td>57</td>\n",
              "      <td>0</td>\n",
              "      <td>0</td>\n",
              "      <td>120</td>\n",
              "      <td>354</td>\n",
              "      <td>0</td>\n",
              "      <td>1</td>\n",
              "      <td>163</td>\n",
              "      <td>1</td>\n",
              "      <td>0.6</td>\n",
              "      <td>2</td>\n",
              "      <td>0</td>\n",
              "      <td>2</td>\n",
              "      <td>1</td>\n",
              "    </tr>\n",
              "  </tbody>\n",
              "</table>\n",
              "</div>\n",
              "    <div class=\"colab-df-buttons\">\n",
              "\n",
              "  <div class=\"colab-df-container\">\n",
              "    <button class=\"colab-df-convert\" onclick=\"convertToInteractive('df-b8cad1aa-e1d7-472e-9145-4fec990a7c19')\"\n",
              "            title=\"Convert this dataframe to an interactive table.\"\n",
              "            style=\"display:none;\">\n",
              "\n",
              "  <svg xmlns=\"http://www.w3.org/2000/svg\" height=\"24px\" viewBox=\"0 -960 960 960\">\n",
              "    <path d=\"M120-120v-720h720v720H120Zm60-500h600v-160H180v160Zm220 220h160v-160H400v160Zm0 220h160v-160H400v160ZM180-400h160v-160H180v160Zm440 0h160v-160H620v160ZM180-180h160v-160H180v160Zm440 0h160v-160H620v160Z\"/>\n",
              "  </svg>\n",
              "    </button>\n",
              "\n",
              "  <style>\n",
              "    .colab-df-container {\n",
              "      display:flex;\n",
              "      gap: 12px;\n",
              "    }\n",
              "\n",
              "    .colab-df-convert {\n",
              "      background-color: #E8F0FE;\n",
              "      border: none;\n",
              "      border-radius: 50%;\n",
              "      cursor: pointer;\n",
              "      display: none;\n",
              "      fill: #1967D2;\n",
              "      height: 32px;\n",
              "      padding: 0 0 0 0;\n",
              "      width: 32px;\n",
              "    }\n",
              "\n",
              "    .colab-df-convert:hover {\n",
              "      background-color: #E2EBFA;\n",
              "      box-shadow: 0px 1px 2px rgba(60, 64, 67, 0.3), 0px 1px 3px 1px rgba(60, 64, 67, 0.15);\n",
              "      fill: #174EA6;\n",
              "    }\n",
              "\n",
              "    .colab-df-buttons div {\n",
              "      margin-bottom: 4px;\n",
              "    }\n",
              "\n",
              "    [theme=dark] .colab-df-convert {\n",
              "      background-color: #3B4455;\n",
              "      fill: #D2E3FC;\n",
              "    }\n",
              "\n",
              "    [theme=dark] .colab-df-convert:hover {\n",
              "      background-color: #434B5C;\n",
              "      box-shadow: 0px 1px 3px 1px rgba(0, 0, 0, 0.15);\n",
              "      filter: drop-shadow(0px 1px 2px rgba(0, 0, 0, 0.3));\n",
              "      fill: #FFFFFF;\n",
              "    }\n",
              "  </style>\n",
              "\n",
              "    <script>\n",
              "      const buttonEl =\n",
              "        document.querySelector('#df-b8cad1aa-e1d7-472e-9145-4fec990a7c19 button.colab-df-convert');\n",
              "      buttonEl.style.display =\n",
              "        google.colab.kernel.accessAllowed ? 'block' : 'none';\n",
              "\n",
              "      async function convertToInteractive(key) {\n",
              "        const element = document.querySelector('#df-b8cad1aa-e1d7-472e-9145-4fec990a7c19');\n",
              "        const dataTable =\n",
              "          await google.colab.kernel.invokeFunction('convertToInteractive',\n",
              "                                                    [key], {});\n",
              "        if (!dataTable) return;\n",
              "\n",
              "        const docLinkHtml = 'Like what you see? Visit the ' +\n",
              "          '<a target=\"_blank\" href=https://colab.research.google.com/notebooks/data_table.ipynb>data table notebook</a>'\n",
              "          + ' to learn more about interactive tables.';\n",
              "        element.innerHTML = '';\n",
              "        dataTable['output_type'] = 'display_data';\n",
              "        await google.colab.output.renderOutput(dataTable, element);\n",
              "        const docLink = document.createElement('div');\n",
              "        docLink.innerHTML = docLinkHtml;\n",
              "        element.appendChild(docLink);\n",
              "      }\n",
              "    </script>\n",
              "  </div>\n",
              "\n",
              "\n",
              "<div id=\"df-235c17cc-39a4-4f9a-adf4-4d1a518dc11c\">\n",
              "  <button class=\"colab-df-quickchart\" onclick=\"quickchart('df-235c17cc-39a4-4f9a-adf4-4d1a518dc11c')\"\n",
              "            title=\"Suggest charts\"\n",
              "            style=\"display:none;\">\n",
              "\n",
              "<svg xmlns=\"http://www.w3.org/2000/svg\" height=\"24px\"viewBox=\"0 0 24 24\"\n",
              "     width=\"24px\">\n",
              "    <g>\n",
              "        <path d=\"M19 3H5c-1.1 0-2 .9-2 2v14c0 1.1.9 2 2 2h14c1.1 0 2-.9 2-2V5c0-1.1-.9-2-2-2zM9 17H7v-7h2v7zm4 0h-2V7h2v10zm4 0h-2v-4h2v4z\"/>\n",
              "    </g>\n",
              "</svg>\n",
              "  </button>\n",
              "\n",
              "<style>\n",
              "  .colab-df-quickchart {\n",
              "      --bg-color: #E8F0FE;\n",
              "      --fill-color: #1967D2;\n",
              "      --hover-bg-color: #E2EBFA;\n",
              "      --hover-fill-color: #174EA6;\n",
              "      --disabled-fill-color: #AAA;\n",
              "      --disabled-bg-color: #DDD;\n",
              "  }\n",
              "\n",
              "  [theme=dark] .colab-df-quickchart {\n",
              "      --bg-color: #3B4455;\n",
              "      --fill-color: #D2E3FC;\n",
              "      --hover-bg-color: #434B5C;\n",
              "      --hover-fill-color: #FFFFFF;\n",
              "      --disabled-bg-color: #3B4455;\n",
              "      --disabled-fill-color: #666;\n",
              "  }\n",
              "\n",
              "  .colab-df-quickchart {\n",
              "    background-color: var(--bg-color);\n",
              "    border: none;\n",
              "    border-radius: 50%;\n",
              "    cursor: pointer;\n",
              "    display: none;\n",
              "    fill: var(--fill-color);\n",
              "    height: 32px;\n",
              "    padding: 0;\n",
              "    width: 32px;\n",
              "  }\n",
              "\n",
              "  .colab-df-quickchart:hover {\n",
              "    background-color: var(--hover-bg-color);\n",
              "    box-shadow: 0 1px 2px rgba(60, 64, 67, 0.3), 0 1px 3px 1px rgba(60, 64, 67, 0.15);\n",
              "    fill: var(--button-hover-fill-color);\n",
              "  }\n",
              "\n",
              "  .colab-df-quickchart-complete:disabled,\n",
              "  .colab-df-quickchart-complete:disabled:hover {\n",
              "    background-color: var(--disabled-bg-color);\n",
              "    fill: var(--disabled-fill-color);\n",
              "    box-shadow: none;\n",
              "  }\n",
              "\n",
              "  .colab-df-spinner {\n",
              "    border: 2px solid var(--fill-color);\n",
              "    border-color: transparent;\n",
              "    border-bottom-color: var(--fill-color);\n",
              "    animation:\n",
              "      spin 1s steps(1) infinite;\n",
              "  }\n",
              "\n",
              "  @keyframes spin {\n",
              "    0% {\n",
              "      border-color: transparent;\n",
              "      border-bottom-color: var(--fill-color);\n",
              "      border-left-color: var(--fill-color);\n",
              "    }\n",
              "    20% {\n",
              "      border-color: transparent;\n",
              "      border-left-color: var(--fill-color);\n",
              "      border-top-color: var(--fill-color);\n",
              "    }\n",
              "    30% {\n",
              "      border-color: transparent;\n",
              "      border-left-color: var(--fill-color);\n",
              "      border-top-color: var(--fill-color);\n",
              "      border-right-color: var(--fill-color);\n",
              "    }\n",
              "    40% {\n",
              "      border-color: transparent;\n",
              "      border-right-color: var(--fill-color);\n",
              "      border-top-color: var(--fill-color);\n",
              "    }\n",
              "    60% {\n",
              "      border-color: transparent;\n",
              "      border-right-color: var(--fill-color);\n",
              "    }\n",
              "    80% {\n",
              "      border-color: transparent;\n",
              "      border-right-color: var(--fill-color);\n",
              "      border-bottom-color: var(--fill-color);\n",
              "    }\n",
              "    90% {\n",
              "      border-color: transparent;\n",
              "      border-bottom-color: var(--fill-color);\n",
              "    }\n",
              "  }\n",
              "</style>\n",
              "\n",
              "  <script>\n",
              "    async function quickchart(key) {\n",
              "      const quickchartButtonEl =\n",
              "        document.querySelector('#' + key + ' button');\n",
              "      quickchartButtonEl.disabled = true;  // To prevent multiple clicks.\n",
              "      quickchartButtonEl.classList.add('colab-df-spinner');\n",
              "      try {\n",
              "        const charts = await google.colab.kernel.invokeFunction(\n",
              "            'suggestCharts', [key], {});\n",
              "      } catch (error) {\n",
              "        console.error('Error during call to suggestCharts:', error);\n",
              "      }\n",
              "      quickchartButtonEl.classList.remove('colab-df-spinner');\n",
              "      quickchartButtonEl.classList.add('colab-df-quickchart-complete');\n",
              "    }\n",
              "    (() => {\n",
              "      let quickchartButtonEl =\n",
              "        document.querySelector('#df-235c17cc-39a4-4f9a-adf4-4d1a518dc11c button');\n",
              "      quickchartButtonEl.style.display =\n",
              "        google.colab.kernel.accessAllowed ? 'block' : 'none';\n",
              "    })();\n",
              "  </script>\n",
              "</div>\n",
              "\n",
              "    </div>\n",
              "  </div>\n"
            ],
            "application/vnd.google.colaboratory.intrinsic+json": {
              "type": "dataframe",
              "summary": "{\n  \"name\": \"print(\\\"\\uceec\\ub7fc \\ubaa9\\ub85d:\\\", df\",\n  \"rows\": 5,\n  \"fields\": [\n    {\n      \"column\": \"age\",\n      \"properties\": {\n        \"dtype\": \"number\",\n        \"std\": 11,\n        \"min\": 37,\n        \"max\": 63,\n        \"num_unique_values\": 5,\n        \"samples\": [\n          37,\n          57,\n          41\n        ],\n        \"semantic_type\": \"\",\n        \"description\": \"\"\n      }\n    },\n    {\n      \"column\": \"sex\",\n      \"properties\": {\n        \"dtype\": \"number\",\n        \"std\": 0,\n        \"min\": 0,\n        \"max\": 1,\n        \"num_unique_values\": 2,\n        \"samples\": [\n          0,\n          1\n        ],\n        \"semantic_type\": \"\",\n        \"description\": \"\"\n      }\n    },\n    {\n      \"column\": \"cp\",\n      \"properties\": {\n        \"dtype\": \"number\",\n        \"std\": 1,\n        \"min\": 0,\n        \"max\": 3,\n        \"num_unique_values\": 4,\n        \"samples\": [\n          2,\n          0\n        ],\n        \"semantic_type\": \"\",\n        \"description\": \"\"\n      }\n    },\n    {\n      \"column\": \"trestbps\",\n      \"properties\": {\n        \"dtype\": \"number\",\n        \"std\": 10,\n        \"min\": 120,\n        \"max\": 145,\n        \"num_unique_values\": 3,\n        \"samples\": [\n          145,\n          130\n        ],\n        \"semantic_type\": \"\",\n        \"description\": \"\"\n      }\n    },\n    {\n      \"column\": \"chol\",\n      \"properties\": {\n        \"dtype\": \"number\",\n        \"std\": 57,\n        \"min\": 204,\n        \"max\": 354,\n        \"num_unique_values\": 5,\n        \"samples\": [\n          250,\n          354\n        ],\n        \"semantic_type\": \"\",\n        \"description\": \"\"\n      }\n    },\n    {\n      \"column\": \"fbs\",\n      \"properties\": {\n        \"dtype\": \"number\",\n        \"std\": 0,\n        \"min\": 0,\n        \"max\": 1,\n        \"num_unique_values\": 2,\n        \"samples\": [\n          0,\n          1\n        ],\n        \"semantic_type\": \"\",\n        \"description\": \"\"\n      }\n    },\n    {\n      \"column\": \"restecg\",\n      \"properties\": {\n        \"dtype\": \"number\",\n        \"std\": 0,\n        \"min\": 0,\n        \"max\": 1,\n        \"num_unique_values\": 2,\n        \"samples\": [\n          1,\n          0\n        ],\n        \"semantic_type\": \"\",\n        \"description\": \"\"\n      }\n    },\n    {\n      \"column\": \"thalach\",\n      \"properties\": {\n        \"dtype\": \"number\",\n        \"std\": 14,\n        \"min\": 150,\n        \"max\": 187,\n        \"num_unique_values\": 5,\n        \"samples\": [\n          187,\n          163\n        ],\n        \"semantic_type\": \"\",\n        \"description\": \"\"\n      }\n    },\n    {\n      \"column\": \"exang\",\n      \"properties\": {\n        \"dtype\": \"number\",\n        \"std\": 0,\n        \"min\": 0,\n        \"max\": 1,\n        \"num_unique_values\": 2,\n        \"samples\": [\n          1,\n          0\n        ],\n        \"semantic_type\": \"\",\n        \"description\": \"\"\n      }\n    },\n    {\n      \"column\": \"oldpeak\",\n      \"properties\": {\n        \"dtype\": \"number\",\n        \"std\": 1.1945710527214362,\n        \"min\": 0.6,\n        \"max\": 3.5,\n        \"num_unique_values\": 5,\n        \"samples\": [\n          3.5,\n          0.6\n        ],\n        \"semantic_type\": \"\",\n        \"description\": \"\"\n      }\n    },\n    {\n      \"column\": \"slope\",\n      \"properties\": {\n        \"dtype\": \"number\",\n        \"std\": 1,\n        \"min\": 0,\n        \"max\": 2,\n        \"num_unique_values\": 2,\n        \"samples\": [\n          2,\n          0\n        ],\n        \"semantic_type\": \"\",\n        \"description\": \"\"\n      }\n    },\n    {\n      \"column\": \"ca\",\n      \"properties\": {\n        \"dtype\": \"number\",\n        \"std\": 0,\n        \"min\": 0,\n        \"max\": 0,\n        \"num_unique_values\": 1,\n        \"samples\": [\n          0\n        ],\n        \"semantic_type\": \"\",\n        \"description\": \"\"\n      }\n    },\n    {\n      \"column\": \"thal\",\n      \"properties\": {\n        \"dtype\": \"number\",\n        \"std\": 0,\n        \"min\": 1,\n        \"max\": 2,\n        \"num_unique_values\": 2,\n        \"samples\": [\n          2\n        ],\n        \"semantic_type\": \"\",\n        \"description\": \"\"\n      }\n    },\n    {\n      \"column\": \"target\",\n      \"properties\": {\n        \"dtype\": \"number\",\n        \"std\": 0,\n        \"min\": 1,\n        \"max\": 1,\n        \"num_unique_values\": 1,\n        \"samples\": [\n          1\n        ],\n        \"semantic_type\": \"\",\n        \"description\": \"\"\n      }\n    }\n  ]\n}"
            }
          },
          "metadata": {}
        },
        {
          "output_type": "stream",
          "name": "stdout",
          "text": [
            "컬럼 목록: Index(['age', 'sex', 'cp', 'trestbps', 'chol', 'fbs', 'restecg', 'thalach',\n",
            "       'exang', 'oldpeak', 'slope', 'ca', 'thal', 'target'],\n",
            "      dtype='object')\n"
          ]
        }
      ],
      "source": [
        "import pandas as pd\n",
        "import numpy as np\n",
        "from sklearn.model_selection import train_test_split\n",
        "from sklearn.preprocessing import LabelEncoder\n",
        "from sklearn.metrics import accuracy_score, confusion_matrix\n",
        "\n",
        "# heart 데이터 CSV 파일 경로 설정\n",
        "url = \"https://raw.githubusercontent.com/MyungKyuYi/AI-class/refs/heads/main/heart.csv\"\n",
        "df = pd.read_csv(url)\n",
        "\n",
        "# 데이터프레임 확인\n",
        "display(df.head())\n",
        "print(\"컬럼 목록:\", df.columns)"
      ]
    },
    {
      "cell_type": "code",
      "source": [
        "# 결측치 확인\n",
        "print(df.isnull().sum(),\"\\n\")"
      ],
      "metadata": {
        "colab": {
          "base_uri": "https://localhost:8080/"
        },
        "id": "NB7Kb_Tp0-7k",
        "outputId": "173c975a-7401-4676-a477-6503f959f595"
      },
      "execution_count": 38,
      "outputs": [
        {
          "output_type": "stream",
          "name": "stdout",
          "text": [
            "age         0\n",
            "sex         0\n",
            "cp          0\n",
            "trestbps    0\n",
            "chol        0\n",
            "fbs         0\n",
            "restecg     0\n",
            "thalach     0\n",
            "exang       0\n",
            "oldpeak     0\n",
            "slope       0\n",
            "ca          0\n",
            "thal        0\n",
            "target      0\n",
            "dtype: int64 \n",
            "\n"
          ]
        }
      ]
    },
    {
      "cell_type": "code",
      "source": [
        "# 레이블의 데이터 비율을 확인(imbalanced data인지 확인)\n",
        "print(df['target'].value_counts(),\"\\n\")"
      ],
      "metadata": {
        "colab": {
          "base_uri": "https://localhost:8080/"
        },
        "id": "oReDL5CL1DQR",
        "outputId": "60d512a5-82c8-4275-a9de-2708b894950e"
      },
      "execution_count": 39,
      "outputs": [
        {
          "output_type": "stream",
          "name": "stdout",
          "text": [
            "target\n",
            "1    165\n",
            "0    138\n",
            "Name: count, dtype: int64 \n",
            "\n"
          ]
        }
      ]
    },
    {
      "cell_type": "markdown",
      "source": [
        "# 원-핫 인코딩"
      ],
      "metadata": {
        "id": "SHBuvcxZ3-YW"
      }
    },
    {
      "cell_type": "code",
      "source": [
        "y = df['target']   # 레이블(Label) 데이터\n",
        "Y = pd.get_dummies(y).values\n",
        "Y"
      ],
      "metadata": {
        "colab": {
          "base_uri": "https://localhost:8080/"
        },
        "id": "kC_0WcN84QsA",
        "outputId": "71c6c10b-54c5-4ede-f44c-70334cd6433d"
      },
      "execution_count": 41,
      "outputs": [
        {
          "output_type": "execute_result",
          "data": {
            "text/plain": [
              "array([[False,  True],\n",
              "       [False,  True],\n",
              "       [False,  True],\n",
              "       [False,  True],\n",
              "       [False,  True],\n",
              "       [False,  True],\n",
              "       [False,  True],\n",
              "       [False,  True],\n",
              "       [False,  True],\n",
              "       [False,  True],\n",
              "       [False,  True],\n",
              "       [False,  True],\n",
              "       [False,  True],\n",
              "       [False,  True],\n",
              "       [False,  True],\n",
              "       [False,  True],\n",
              "       [False,  True],\n",
              "       [False,  True],\n",
              "       [False,  True],\n",
              "       [False,  True],\n",
              "       [False,  True],\n",
              "       [False,  True],\n",
              "       [False,  True],\n",
              "       [False,  True],\n",
              "       [False,  True],\n",
              "       [False,  True],\n",
              "       [False,  True],\n",
              "       [False,  True],\n",
              "       [False,  True],\n",
              "       [False,  True],\n",
              "       [False,  True],\n",
              "       [False,  True],\n",
              "       [False,  True],\n",
              "       [False,  True],\n",
              "       [False,  True],\n",
              "       [False,  True],\n",
              "       [False,  True],\n",
              "       [False,  True],\n",
              "       [False,  True],\n",
              "       [False,  True],\n",
              "       [False,  True],\n",
              "       [False,  True],\n",
              "       [False,  True],\n",
              "       [False,  True],\n",
              "       [False,  True],\n",
              "       [False,  True],\n",
              "       [False,  True],\n",
              "       [False,  True],\n",
              "       [False,  True],\n",
              "       [False,  True],\n",
              "       [False,  True],\n",
              "       [False,  True],\n",
              "       [False,  True],\n",
              "       [False,  True],\n",
              "       [False,  True],\n",
              "       [False,  True],\n",
              "       [False,  True],\n",
              "       [False,  True],\n",
              "       [False,  True],\n",
              "       [False,  True],\n",
              "       [False,  True],\n",
              "       [False,  True],\n",
              "       [False,  True],\n",
              "       [False,  True],\n",
              "       [False,  True],\n",
              "       [False,  True],\n",
              "       [False,  True],\n",
              "       [False,  True],\n",
              "       [False,  True],\n",
              "       [False,  True],\n",
              "       [False,  True],\n",
              "       [False,  True],\n",
              "       [False,  True],\n",
              "       [False,  True],\n",
              "       [False,  True],\n",
              "       [False,  True],\n",
              "       [False,  True],\n",
              "       [False,  True],\n",
              "       [False,  True],\n",
              "       [False,  True],\n",
              "       [False,  True],\n",
              "       [False,  True],\n",
              "       [False,  True],\n",
              "       [False,  True],\n",
              "       [False,  True],\n",
              "       [False,  True],\n",
              "       [False,  True],\n",
              "       [False,  True],\n",
              "       [False,  True],\n",
              "       [False,  True],\n",
              "       [False,  True],\n",
              "       [False,  True],\n",
              "       [False,  True],\n",
              "       [False,  True],\n",
              "       [False,  True],\n",
              "       [False,  True],\n",
              "       [False,  True],\n",
              "       [False,  True],\n",
              "       [False,  True],\n",
              "       [False,  True],\n",
              "       [False,  True],\n",
              "       [False,  True],\n",
              "       [False,  True],\n",
              "       [False,  True],\n",
              "       [False,  True],\n",
              "       [False,  True],\n",
              "       [False,  True],\n",
              "       [False,  True],\n",
              "       [False,  True],\n",
              "       [False,  True],\n",
              "       [False,  True],\n",
              "       [False,  True],\n",
              "       [False,  True],\n",
              "       [False,  True],\n",
              "       [False,  True],\n",
              "       [False,  True],\n",
              "       [False,  True],\n",
              "       [False,  True],\n",
              "       [False,  True],\n",
              "       [False,  True],\n",
              "       [False,  True],\n",
              "       [False,  True],\n",
              "       [False,  True],\n",
              "       [False,  True],\n",
              "       [False,  True],\n",
              "       [False,  True],\n",
              "       [False,  True],\n",
              "       [False,  True],\n",
              "       [False,  True],\n",
              "       [False,  True],\n",
              "       [False,  True],\n",
              "       [False,  True],\n",
              "       [False,  True],\n",
              "       [False,  True],\n",
              "       [False,  True],\n",
              "       [False,  True],\n",
              "       [False,  True],\n",
              "       [False,  True],\n",
              "       [False,  True],\n",
              "       [False,  True],\n",
              "       [False,  True],\n",
              "       [False,  True],\n",
              "       [False,  True],\n",
              "       [False,  True],\n",
              "       [False,  True],\n",
              "       [False,  True],\n",
              "       [False,  True],\n",
              "       [False,  True],\n",
              "       [False,  True],\n",
              "       [False,  True],\n",
              "       [False,  True],\n",
              "       [False,  True],\n",
              "       [False,  True],\n",
              "       [False,  True],\n",
              "       [False,  True],\n",
              "       [False,  True],\n",
              "       [False,  True],\n",
              "       [False,  True],\n",
              "       [False,  True],\n",
              "       [False,  True],\n",
              "       [False,  True],\n",
              "       [False,  True],\n",
              "       [False,  True],\n",
              "       [False,  True],\n",
              "       [False,  True],\n",
              "       [ True, False],\n",
              "       [ True, False],\n",
              "       [ True, False],\n",
              "       [ True, False],\n",
              "       [ True, False],\n",
              "       [ True, False],\n",
              "       [ True, False],\n",
              "       [ True, False],\n",
              "       [ True, False],\n",
              "       [ True, False],\n",
              "       [ True, False],\n",
              "       [ True, False],\n",
              "       [ True, False],\n",
              "       [ True, False],\n",
              "       [ True, False],\n",
              "       [ True, False],\n",
              "       [ True, False],\n",
              "       [ True, False],\n",
              "       [ True, False],\n",
              "       [ True, False],\n",
              "       [ True, False],\n",
              "       [ True, False],\n",
              "       [ True, False],\n",
              "       [ True, False],\n",
              "       [ True, False],\n",
              "       [ True, False],\n",
              "       [ True, False],\n",
              "       [ True, False],\n",
              "       [ True, False],\n",
              "       [ True, False],\n",
              "       [ True, False],\n",
              "       [ True, False],\n",
              "       [ True, False],\n",
              "       [ True, False],\n",
              "       [ True, False],\n",
              "       [ True, False],\n",
              "       [ True, False],\n",
              "       [ True, False],\n",
              "       [ True, False],\n",
              "       [ True, False],\n",
              "       [ True, False],\n",
              "       [ True, False],\n",
              "       [ True, False],\n",
              "       [ True, False],\n",
              "       [ True, False],\n",
              "       [ True, False],\n",
              "       [ True, False],\n",
              "       [ True, False],\n",
              "       [ True, False],\n",
              "       [ True, False],\n",
              "       [ True, False],\n",
              "       [ True, False],\n",
              "       [ True, False],\n",
              "       [ True, False],\n",
              "       [ True, False],\n",
              "       [ True, False],\n",
              "       [ True, False],\n",
              "       [ True, False],\n",
              "       [ True, False],\n",
              "       [ True, False],\n",
              "       [ True, False],\n",
              "       [ True, False],\n",
              "       [ True, False],\n",
              "       [ True, False],\n",
              "       [ True, False],\n",
              "       [ True, False],\n",
              "       [ True, False],\n",
              "       [ True, False],\n",
              "       [ True, False],\n",
              "       [ True, False],\n",
              "       [ True, False],\n",
              "       [ True, False],\n",
              "       [ True, False],\n",
              "       [ True, False],\n",
              "       [ True, False],\n",
              "       [ True, False],\n",
              "       [ True, False],\n",
              "       [ True, False],\n",
              "       [ True, False],\n",
              "       [ True, False],\n",
              "       [ True, False],\n",
              "       [ True, False],\n",
              "       [ True, False],\n",
              "       [ True, False],\n",
              "       [ True, False],\n",
              "       [ True, False],\n",
              "       [ True, False],\n",
              "       [ True, False],\n",
              "       [ True, False],\n",
              "       [ True, False],\n",
              "       [ True, False],\n",
              "       [ True, False],\n",
              "       [ True, False],\n",
              "       [ True, False],\n",
              "       [ True, False],\n",
              "       [ True, False],\n",
              "       [ True, False],\n",
              "       [ True, False],\n",
              "       [ True, False],\n",
              "       [ True, False],\n",
              "       [ True, False],\n",
              "       [ True, False],\n",
              "       [ True, False],\n",
              "       [ True, False],\n",
              "       [ True, False],\n",
              "       [ True, False],\n",
              "       [ True, False],\n",
              "       [ True, False],\n",
              "       [ True, False],\n",
              "       [ True, False],\n",
              "       [ True, False],\n",
              "       [ True, False],\n",
              "       [ True, False],\n",
              "       [ True, False],\n",
              "       [ True, False],\n",
              "       [ True, False],\n",
              "       [ True, False],\n",
              "       [ True, False],\n",
              "       [ True, False],\n",
              "       [ True, False],\n",
              "       [ True, False],\n",
              "       [ True, False],\n",
              "       [ True, False],\n",
              "       [ True, False],\n",
              "       [ True, False],\n",
              "       [ True, False],\n",
              "       [ True, False],\n",
              "       [ True, False],\n",
              "       [ True, False],\n",
              "       [ True, False],\n",
              "       [ True, False],\n",
              "       [ True, False],\n",
              "       [ True, False],\n",
              "       [ True, False],\n",
              "       [ True, False],\n",
              "       [ True, False],\n",
              "       [ True, False],\n",
              "       [ True, False]])"
            ]
          },
          "metadata": {},
          "execution_count": 41
        }
      ]
    },
    {
      "cell_type": "markdown",
      "source": [
        "# Numpy 변환"
      ],
      "metadata": {
        "id": "kDNaab0p4YX_"
      }
    },
    {
      "cell_type": "code",
      "source": [
        "X = df.drop('target', axis=1).values  # 특성(Feature) 데이터"
      ],
      "metadata": {
        "id": "KMTW_zQJ4azr"
      },
      "execution_count": 42,
      "outputs": []
    },
    {
      "cell_type": "markdown",
      "source": [
        "# Data split & shape 확인"
      ],
      "metadata": {
        "id": "KhPza6lX4gzc"
      }
    },
    {
      "cell_type": "code",
      "source": [
        "# x/y데이터. train/test 데이터 분리 (학습 80%, 테스트 20%)\n",
        "X_train, X_test, Y_train, Y_test = train_test_split(X, Y, test_size=0.2, random_state=42)\n",
        "# shape 출력(인스턴스의 개수, 특성의 개수)\n",
        "X_train.shape, Y_train.shape, X_test.shape, Y_test.shape"
      ],
      "metadata": {
        "colab": {
          "base_uri": "https://localhost:8080/"
        },
        "id": "zGqGtVaD4n4t",
        "outputId": "a38326f1-91f6-44c3-dde5-39ca22ea2987"
      },
      "execution_count": 43,
      "outputs": [
        {
          "output_type": "execute_result",
          "data": {
            "text/plain": [
              "((242, 13), (242, 2), (61, 13), (61, 2))"
            ]
          },
          "metadata": {},
          "execution_count": 43
        }
      ]
    },
    {
      "cell_type": "markdown",
      "source": [
        "# Sequential 모델 생성"
      ],
      "metadata": {
        "id": "sYk-SrNJ6OIl"
      }
    },
    {
      "cell_type": "code",
      "source": [
        "from keras.models import Sequential\n",
        "from keras.layers import Dense\n",
        "from keras.optimizers import SGD,Adam\n",
        "\n",
        "\n",
        "model = Sequential()\n",
        "\n",
        "model.add(Dense(13,input_shape=(13,),activation='relu')) # input_shape 숫자를 컬럼의 개수와 맞추지 않으면 오류 발생\n",
        "model.add(Dense(20,activation='relu'))\n",
        "model.add(Dense(20,activation='relu'))\n",
        "model.add(Dense(2, activation = 'sigmoid'))\n",
        "\n",
        "model.compile(optimizer = 'adam', loss = 'binary_crossentropy', metrics = ['mse'])\n",
        "\n",
        "model.summary()"
      ],
      "metadata": {
        "colab": {
          "base_uri": "https://localhost:8080/",
          "height": 257
        },
        "id": "hDOd6Ptg6P26",
        "outputId": "130d7eb0-d5d0-4c37-9648-7faf26d5d27f"
      },
      "execution_count": 46,
      "outputs": [
        {
          "output_type": "display_data",
          "data": {
            "text/plain": [
              "\u001b[1mModel: \"sequential_5\"\u001b[0m\n"
            ],
            "text/html": [
              "<pre style=\"white-space:pre;overflow-x:auto;line-height:normal;font-family:Menlo,'DejaVu Sans Mono',consolas,'Courier New',monospace\"><span style=\"font-weight: bold\">Model: \"sequential_5\"</span>\n",
              "</pre>\n"
            ]
          },
          "metadata": {}
        },
        {
          "output_type": "display_data",
          "data": {
            "text/plain": [
              "┏━━━━━━━━━━━━━━━━━━━━━━━━━━━━━━━━━━━━━━┳━━━━━━━━━━━━━━━━━━━━━━━━━━━━━┳━━━━━━━━━━━━━━━━━┓\n",
              "┃\u001b[1m \u001b[0m\u001b[1mLayer (type)                        \u001b[0m\u001b[1m \u001b[0m┃\u001b[1m \u001b[0m\u001b[1mOutput Shape               \u001b[0m\u001b[1m \u001b[0m┃\u001b[1m \u001b[0m\u001b[1m        Param #\u001b[0m\u001b[1m \u001b[0m┃\n",
              "┡━━━━━━━━━━━━━━━━━━━━━━━━━━━━━━━━━━━━━━╇━━━━━━━━━━━━━━━━━━━━━━━━━━━━━╇━━━━━━━━━━━━━━━━━┩\n",
              "│ dense_20 (\u001b[38;5;33mDense\u001b[0m)                     │ (\u001b[38;5;45mNone\u001b[0m, \u001b[38;5;34m13\u001b[0m)                  │             \u001b[38;5;34m182\u001b[0m │\n",
              "├──────────────────────────────────────┼─────────────────────────────┼─────────────────┤\n",
              "│ dense_21 (\u001b[38;5;33mDense\u001b[0m)                     │ (\u001b[38;5;45mNone\u001b[0m, \u001b[38;5;34m20\u001b[0m)                  │             \u001b[38;5;34m280\u001b[0m │\n",
              "├──────────────────────────────────────┼─────────────────────────────┼─────────────────┤\n",
              "│ dense_22 (\u001b[38;5;33mDense\u001b[0m)                     │ (\u001b[38;5;45mNone\u001b[0m, \u001b[38;5;34m20\u001b[0m)                  │             \u001b[38;5;34m420\u001b[0m │\n",
              "├──────────────────────────────────────┼─────────────────────────────┼─────────────────┤\n",
              "│ dense_23 (\u001b[38;5;33mDense\u001b[0m)                     │ (\u001b[38;5;45mNone\u001b[0m, \u001b[38;5;34m2\u001b[0m)                   │              \u001b[38;5;34m42\u001b[0m │\n",
              "└──────────────────────────────────────┴─────────────────────────────┴─────────────────┘\n"
            ],
            "text/html": [
              "<pre style=\"white-space:pre;overflow-x:auto;line-height:normal;font-family:Menlo,'DejaVu Sans Mono',consolas,'Courier New',monospace\">┏━━━━━━━━━━━━━━━━━━━━━━━━━━━━━━━━━━━━━━┳━━━━━━━━━━━━━━━━━━━━━━━━━━━━━┳━━━━━━━━━━━━━━━━━┓\n",
              "┃<span style=\"font-weight: bold\"> Layer (type)                         </span>┃<span style=\"font-weight: bold\"> Output Shape                </span>┃<span style=\"font-weight: bold\">         Param # </span>┃\n",
              "┡━━━━━━━━━━━━━━━━━━━━━━━━━━━━━━━━━━━━━━╇━━━━━━━━━━━━━━━━━━━━━━━━━━━━━╇━━━━━━━━━━━━━━━━━┩\n",
              "│ dense_20 (<span style=\"color: #0087ff; text-decoration-color: #0087ff\">Dense</span>)                     │ (<span style=\"color: #00d7ff; text-decoration-color: #00d7ff\">None</span>, <span style=\"color: #00af00; text-decoration-color: #00af00\">13</span>)                  │             <span style=\"color: #00af00; text-decoration-color: #00af00\">182</span> │\n",
              "├──────────────────────────────────────┼─────────────────────────────┼─────────────────┤\n",
              "│ dense_21 (<span style=\"color: #0087ff; text-decoration-color: #0087ff\">Dense</span>)                     │ (<span style=\"color: #00d7ff; text-decoration-color: #00d7ff\">None</span>, <span style=\"color: #00af00; text-decoration-color: #00af00\">20</span>)                  │             <span style=\"color: #00af00; text-decoration-color: #00af00\">280</span> │\n",
              "├──────────────────────────────────────┼─────────────────────────────┼─────────────────┤\n",
              "│ dense_22 (<span style=\"color: #0087ff; text-decoration-color: #0087ff\">Dense</span>)                     │ (<span style=\"color: #00d7ff; text-decoration-color: #00d7ff\">None</span>, <span style=\"color: #00af00; text-decoration-color: #00af00\">20</span>)                  │             <span style=\"color: #00af00; text-decoration-color: #00af00\">420</span> │\n",
              "├──────────────────────────────────────┼─────────────────────────────┼─────────────────┤\n",
              "│ dense_23 (<span style=\"color: #0087ff; text-decoration-color: #0087ff\">Dense</span>)                     │ (<span style=\"color: #00d7ff; text-decoration-color: #00d7ff\">None</span>, <span style=\"color: #00af00; text-decoration-color: #00af00\">2</span>)                   │              <span style=\"color: #00af00; text-decoration-color: #00af00\">42</span> │\n",
              "└──────────────────────────────────────┴─────────────────────────────┴─────────────────┘\n",
              "</pre>\n"
            ]
          },
          "metadata": {}
        },
        {
          "output_type": "display_data",
          "data": {
            "text/plain": [
              "\u001b[1m Total params: \u001b[0m\u001b[38;5;34m924\u001b[0m (3.61 KB)\n"
            ],
            "text/html": [
              "<pre style=\"white-space:pre;overflow-x:auto;line-height:normal;font-family:Menlo,'DejaVu Sans Mono',consolas,'Courier New',monospace\"><span style=\"font-weight: bold\"> Total params: </span><span style=\"color: #00af00; text-decoration-color: #00af00\">924</span> (3.61 KB)\n",
              "</pre>\n"
            ]
          },
          "metadata": {}
        },
        {
          "output_type": "display_data",
          "data": {
            "text/plain": [
              "\u001b[1m Trainable params: \u001b[0m\u001b[38;5;34m924\u001b[0m (3.61 KB)\n"
            ],
            "text/html": [
              "<pre style=\"white-space:pre;overflow-x:auto;line-height:normal;font-family:Menlo,'DejaVu Sans Mono',consolas,'Courier New',monospace\"><span style=\"font-weight: bold\"> Trainable params: </span><span style=\"color: #00af00; text-decoration-color: #00af00\">924</span> (3.61 KB)\n",
              "</pre>\n"
            ]
          },
          "metadata": {}
        },
        {
          "output_type": "display_data",
          "data": {
            "text/plain": [
              "\u001b[1m Non-trainable params: \u001b[0m\u001b[38;5;34m0\u001b[0m (0.00 B)\n"
            ],
            "text/html": [
              "<pre style=\"white-space:pre;overflow-x:auto;line-height:normal;font-family:Menlo,'DejaVu Sans Mono',consolas,'Courier New',monospace\"><span style=\"font-weight: bold\"> Non-trainable params: </span><span style=\"color: #00af00; text-decoration-color: #00af00\">0</span> (0.00 B)\n",
              "</pre>\n"
            ]
          },
          "metadata": {}
        }
      ]
    },
    {
      "cell_type": "markdown",
      "source": [
        "# 모델에 fit"
      ],
      "metadata": {
        "id": "CydEg3dl7dLU"
      }
    },
    {
      "cell_type": "code",
      "source": [
        "N_EPOCHS = 30\n",
        "\n",
        "# validation data에 Y_test를 넣어서 train하면 안됨\n",
        "model_history=model.fit(x=X_train, y=Y_train, epochs=N_EPOCHS, batch_size=32,validation_split=0.1)\n",
        "Y_pred = model.predict(X_test)\n",
        "\n",
        "# one-hot encoding 데이터를 정수 라벨로 변환\n",
        "Y_test_class = np.argmax(Y_test, axis=1)\n",
        "Y_pred_class = np.argmax(Y_pred, axis=1)"
      ],
      "metadata": {
        "colab": {
          "base_uri": "https://localhost:8080/"
        },
        "id": "RHVNnmUn7d5w",
        "outputId": "e02dd1e2-e5f7-49b2-f560-fac24926ff0d"
      },
      "execution_count": 58,
      "outputs": [
        {
          "output_type": "stream",
          "name": "stdout",
          "text": [
            "Epoch 1/30\n",
            "\u001b[1m7/7\u001b[0m \u001b[32m━━━━━━━━━━━━━━━━━━━━\u001b[0m\u001b[37m\u001b[0m \u001b[1m0s\u001b[0m 20ms/step - loss: 0.4525 - mse: 0.1462 - val_loss: 0.3804 - val_mse: 0.1151\n",
            "Epoch 2/30\n",
            "\u001b[1m7/7\u001b[0m \u001b[32m━━━━━━━━━━━━━━━━━━━━\u001b[0m\u001b[37m\u001b[0m \u001b[1m0s\u001b[0m 13ms/step - loss: 0.4876 - mse: 0.1632 - val_loss: 0.3914 - val_mse: 0.1195\n",
            "Epoch 3/30\n",
            "\u001b[1m7/7\u001b[0m \u001b[32m━━━━━━━━━━━━━━━━━━━━\u001b[0m\u001b[37m\u001b[0m \u001b[1m0s\u001b[0m 14ms/step - loss: 0.4399 - mse: 0.1420 - val_loss: 0.3809 - val_mse: 0.1161\n",
            "Epoch 4/30\n",
            "\u001b[1m7/7\u001b[0m \u001b[32m━━━━━━━━━━━━━━━━━━━━\u001b[0m\u001b[37m\u001b[0m \u001b[1m0s\u001b[0m 13ms/step - loss: 0.4827 - mse: 0.1587 - val_loss: 0.4079 - val_mse: 0.1264\n",
            "Epoch 5/30\n",
            "\u001b[1m7/7\u001b[0m \u001b[32m━━━━━━━━━━━━━━━━━━━━\u001b[0m\u001b[37m\u001b[0m \u001b[1m0s\u001b[0m 14ms/step - loss: 0.4227 - mse: 0.1357 - val_loss: 0.3815 - val_mse: 0.1163\n",
            "Epoch 6/30\n",
            "\u001b[1m7/7\u001b[0m \u001b[32m━━━━━━━━━━━━━━━━━━━━\u001b[0m\u001b[37m\u001b[0m \u001b[1m0s\u001b[0m 14ms/step - loss: 0.4393 - mse: 0.1430 - val_loss: 0.3925 - val_mse: 0.1209\n",
            "Epoch 7/30\n",
            "\u001b[1m7/7\u001b[0m \u001b[32m━━━━━━━━━━━━━━━━━━━━\u001b[0m\u001b[37m\u001b[0m \u001b[1m0s\u001b[0m 22ms/step - loss: 0.4924 - mse: 0.1638 - val_loss: 0.3841 - val_mse: 0.1180\n",
            "Epoch 8/30\n",
            "\u001b[1m7/7\u001b[0m \u001b[32m━━━━━━━━━━━━━━━━━━━━\u001b[0m\u001b[37m\u001b[0m \u001b[1m0s\u001b[0m 14ms/step - loss: 0.4309 - mse: 0.1368 - val_loss: 0.3866 - val_mse: 0.1190\n",
            "Epoch 9/30\n",
            "\u001b[1m7/7\u001b[0m \u001b[32m━━━━━━━━━━━━━━━━━━━━\u001b[0m\u001b[37m\u001b[0m \u001b[1m0s\u001b[0m 13ms/step - loss: 0.4400 - mse: 0.1407 - val_loss: 0.3670 - val_mse: 0.1104\n",
            "Epoch 10/30\n",
            "\u001b[1m7/7\u001b[0m \u001b[32m━━━━━━━━━━━━━━━━━━━━\u001b[0m\u001b[37m\u001b[0m \u001b[1m0s\u001b[0m 13ms/step - loss: 0.4825 - mse: 0.1606 - val_loss: 0.3809 - val_mse: 0.1160\n",
            "Epoch 11/30\n",
            "\u001b[1m7/7\u001b[0m \u001b[32m━━━━━━━━━━━━━━━━━━━━\u001b[0m\u001b[37m\u001b[0m \u001b[1m0s\u001b[0m 13ms/step - loss: 0.4750 - mse: 0.1568 - val_loss: 0.3932 - val_mse: 0.1216\n",
            "Epoch 12/30\n",
            "\u001b[1m7/7\u001b[0m \u001b[32m━━━━━━━━━━━━━━━━━━━━\u001b[0m\u001b[37m\u001b[0m \u001b[1m0s\u001b[0m 13ms/step - loss: 0.4263 - mse: 0.1382 - val_loss: 0.3706 - val_mse: 0.1134\n",
            "Epoch 13/30\n",
            "\u001b[1m7/7\u001b[0m \u001b[32m━━━━━━━━━━━━━━━━━━━━\u001b[0m\u001b[37m\u001b[0m \u001b[1m0s\u001b[0m 13ms/step - loss: 0.4535 - mse: 0.1487 - val_loss: 0.3774 - val_mse: 0.1149\n",
            "Epoch 14/30\n",
            "\u001b[1m7/7\u001b[0m \u001b[32m━━━━━━━━━━━━━━━━━━━━\u001b[0m\u001b[37m\u001b[0m \u001b[1m0s\u001b[0m 15ms/step - loss: 0.4336 - mse: 0.1414 - val_loss: 0.3568 - val_mse: 0.1071\n",
            "Epoch 15/30\n",
            "\u001b[1m7/7\u001b[0m \u001b[32m━━━━━━━━━━━━━━━━━━━━\u001b[0m\u001b[37m\u001b[0m \u001b[1m0s\u001b[0m 14ms/step - loss: 0.4461 - mse: 0.1466 - val_loss: 0.3563 - val_mse: 0.1065\n",
            "Epoch 16/30\n",
            "\u001b[1m7/7\u001b[0m \u001b[32m━━━━━━━━━━━━━━━━━━━━\u001b[0m\u001b[37m\u001b[0m \u001b[1m0s\u001b[0m 13ms/step - loss: 0.4323 - mse: 0.1392 - val_loss: 0.3675 - val_mse: 0.1111\n",
            "Epoch 17/30\n",
            "\u001b[1m7/7\u001b[0m \u001b[32m━━━━━━━━━━━━━━━━━━━━\u001b[0m\u001b[37m\u001b[0m \u001b[1m0s\u001b[0m 13ms/step - loss: 0.4414 - mse: 0.1429 - val_loss: 0.3616 - val_mse: 0.1091\n",
            "Epoch 18/30\n",
            "\u001b[1m7/7\u001b[0m \u001b[32m━━━━━━━━━━━━━━━━━━━━\u001b[0m\u001b[37m\u001b[0m \u001b[1m0s\u001b[0m 20ms/step - loss: 0.4135 - mse: 0.1319 - val_loss: 0.3561 - val_mse: 0.1071\n",
            "Epoch 19/30\n",
            "\u001b[1m7/7\u001b[0m \u001b[32m━━━━━━━━━━━━━━━━━━━━\u001b[0m\u001b[37m\u001b[0m \u001b[1m0s\u001b[0m 13ms/step - loss: 0.4681 - mse: 0.1535 - val_loss: 0.3602 - val_mse: 0.1085\n",
            "Epoch 20/30\n",
            "\u001b[1m7/7\u001b[0m \u001b[32m━━━━━━━━━━━━━━━━━━━━\u001b[0m\u001b[37m\u001b[0m \u001b[1m0s\u001b[0m 15ms/step - loss: 0.4042 - mse: 0.1279 - val_loss: 0.3550 - val_mse: 0.1067\n",
            "Epoch 21/30\n",
            "\u001b[1m7/7\u001b[0m \u001b[32m━━━━━━━━━━━━━━━━━━━━\u001b[0m\u001b[37m\u001b[0m \u001b[1m0s\u001b[0m 14ms/step - loss: 0.4425 - mse: 0.1439 - val_loss: 0.3484 - val_mse: 0.1040\n",
            "Epoch 22/30\n",
            "\u001b[1m7/7\u001b[0m \u001b[32m━━━━━━━━━━━━━━━━━━━━\u001b[0m\u001b[37m\u001b[0m \u001b[1m0s\u001b[0m 20ms/step - loss: 0.4581 - mse: 0.1510 - val_loss: 0.3544 - val_mse: 0.1066\n",
            "Epoch 23/30\n",
            "\u001b[1m7/7\u001b[0m \u001b[32m━━━━━━━━━━━━━━━━━━━━\u001b[0m\u001b[37m\u001b[0m \u001b[1m0s\u001b[0m 13ms/step - loss: 0.4198 - mse: 0.1345 - val_loss: 0.3441 - val_mse: 0.1024\n",
            "Epoch 24/30\n",
            "\u001b[1m7/7\u001b[0m \u001b[32m━━━━━━━━━━━━━━━━━━━━\u001b[0m\u001b[37m\u001b[0m \u001b[1m0s\u001b[0m 13ms/step - loss: 0.4124 - mse: 0.1325 - val_loss: 0.3591 - val_mse: 0.1087\n",
            "Epoch 25/30\n",
            "\u001b[1m7/7\u001b[0m \u001b[32m━━━━━━━━━━━━━━━━━━━━\u001b[0m\u001b[37m\u001b[0m \u001b[1m0s\u001b[0m 13ms/step - loss: 0.4328 - mse: 0.1403 - val_loss: 0.3430 - val_mse: 0.1020\n",
            "Epoch 26/30\n",
            "\u001b[1m7/7\u001b[0m \u001b[32m━━━━━━━━━━━━━━━━━━━━\u001b[0m\u001b[37m\u001b[0m \u001b[1m0s\u001b[0m 20ms/step - loss: 0.4004 - mse: 0.1279 - val_loss: 0.3428 - val_mse: 0.1021\n",
            "Epoch 27/30\n",
            "\u001b[1m7/7\u001b[0m \u001b[32m━━━━━━━━━━━━━━━━━━━━\u001b[0m\u001b[37m\u001b[0m \u001b[1m0s\u001b[0m 20ms/step - loss: 0.4567 - mse: 0.1513 - val_loss: 0.3754 - val_mse: 0.1161\n",
            "Epoch 28/30\n",
            "\u001b[1m7/7\u001b[0m \u001b[32m━━━━━━━━━━━━━━━━━━━━\u001b[0m\u001b[37m\u001b[0m \u001b[1m0s\u001b[0m 15ms/step - loss: 0.4866 - mse: 0.1618 - val_loss: 0.3450 - val_mse: 0.1038\n",
            "Epoch 29/30\n",
            "\u001b[1m7/7\u001b[0m \u001b[32m━━━━━━━━━━━━━━━━━━━━\u001b[0m\u001b[37m\u001b[0m \u001b[1m0s\u001b[0m 13ms/step - loss: 0.4368 - mse: 0.1420 - val_loss: 0.3546 - val_mse: 0.1074\n",
            "Epoch 30/30\n",
            "\u001b[1m7/7\u001b[0m \u001b[32m━━━━━━━━━━━━━━━━━━━━\u001b[0m\u001b[37m\u001b[0m \u001b[1m0s\u001b[0m 13ms/step - loss: 0.4548 - mse: 0.1502 - val_loss: 0.3372 - val_mse: 0.1004\n",
            "\u001b[1m2/2\u001b[0m \u001b[32m━━━━━━━━━━━━━━━━━━━━\u001b[0m\u001b[37m\u001b[0m \u001b[1m0s\u001b[0m 22ms/step\n"
          ]
        }
      ]
    },
    {
      "cell_type": "markdown",
      "source": [
        "# loss 체크"
      ],
      "metadata": {
        "id": "OhvEiWzJ82Y4"
      }
    },
    {
      "cell_type": "code",
      "source": [
        "# loss 체크\n",
        "import matplotlib.pyplot as plt\n",
        "plt.figure(figsize=(10,7))\n",
        "plt.plot(range(N_EPOCHS), model_history.history['loss'], label='train loss')\n",
        "plt.plot(range(N_EPOCHS), model_history.history['val_loss'], label='test loss')\n",
        "plt.xlabel('Epoch')\n",
        "plt.ylabel('Loss')\n",
        "plt.legend()\n",
        "plt.show()"
      ],
      "metadata": {
        "colab": {
          "base_uri": "https://localhost:8080/",
          "height": 530
        },
        "id": "TYLQ4R5283SM",
        "outputId": "ed062c24-e0aa-4856-d6bf-d7c5f88d83e5"
      },
      "execution_count": 59,
      "outputs": [
        {
          "output_type": "display_data",
          "data": {
            "text/plain": [
              "<Figure size 1000x700 with 1 Axes>"
            ],
            "image/png": "[encoded data removed]"
          },
          "metadata": {}
        }
      ]
    },
    {
      "cell_type": "markdown",
      "source": [
        "# 정확도 평가"
      ],
      "metadata": {
        "id": "szVzhc8J85UU"
      }
    },
    {
      "cell_type": "code",
      "source": [
        "model.evaluate(X_test, Y_test)"
      ],
      "metadata": {
        "colab": {
          "base_uri": "https://localhost:8080/"
        },
        "id": "qt-aegyG87ik",
        "outputId": "b2793ec6-c85a-46ee-f672-07106c9afbe6"
      },
      "execution_count": 35,
      "outputs": [
        {
          "output_type": "stream",
          "name": "stdout",
          "text": [
            "\u001b[1m2/2\u001b[0m \u001b[32m━━━━━━━━━━━━━━━━━━━━\u001b[0m\u001b[37m\u001b[0m \u001b[1m0s\u001b[0m 53ms/step - loss: 0.5700 - mse: 0.1871\n"
          ]
        },
        {
          "output_type": "execute_result",
          "data": {
            "text/plain": [
              "[0.550715982913971, 0.18154431879520416]"
            ]
          },
          "metadata": {},
          "execution_count": 35
        }
      ]
    }
  ]
}